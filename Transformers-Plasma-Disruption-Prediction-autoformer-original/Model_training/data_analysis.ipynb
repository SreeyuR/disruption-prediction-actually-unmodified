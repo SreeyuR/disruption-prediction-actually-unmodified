{
 "cells": [
  {
   "cell_type": "code",
   "id": "initial_id",
   "metadata": {
    "collapsed": true,
    "ExecuteTime": {
     "end_time": "2024-10-29T00:13:33.467872Z",
     "start_time": "2024-10-29T00:13:33.465738Z"
    }
   },
   "source": [
    "import pickle\n",
    "import pandas as pd\n",
    "import matplotlib.pyplot as plt\n",
    "import seaborn as sns"
   ],
   "outputs": [],
   "execution_count": 3
  },
  {
   "metadata": {
    "ExecuteTime": {
     "end_time": "2024-10-29T00:13:35.907837Z",
     "start_time": "2024-10-29T00:13:33.665010Z"
    }
   },
   "cell_type": "code",
   "source": [
    "# Load the pickle file\n",
    "with open('Full_HDL_dataset_unnormalized_no_nan_column_names_w_shot_and_time.pickle', 'rb') as file:\n",
    "    data = pickle.load(file)"
   ],
   "id": "4d132d3d034af303",
   "outputs": [],
   "execution_count": 4
  },
  {
   "metadata": {
    "ExecuteTime": {
     "end_time": "2024-10-29T00:13:35.910601Z",
     "start_time": "2024-10-29T00:13:35.908849Z"
    }
   },
   "cell_type": "code",
   "source": [
    "# Print the type of data to understand its structure\n",
    "print(type(data))"
   ],
   "id": "8b4d64bbad85e389",
   "outputs": [
    {
     "name": "stdout",
     "output_type": "stream",
     "text": [
      "<class 'dict'>\n"
     ]
    }
   ],
   "execution_count": 5
  },
  {
   "metadata": {},
   "cell_type": "code",
   "outputs": [],
   "execution_count": null,
   "source": "",
   "id": "439cae59fb842582"
  }
 ],
 "metadata": {
  "kernelspec": {
   "display_name": "Python 3",
   "language": "python",
   "name": "python3"
  },
  "language_info": {
   "codemirror_mode": {
    "name": "ipython",
    "version": 2
   },
   "file_extension": ".py",
   "mimetype": "text/x-python",
   "name": "python",
   "nbconvert_exporter": "python",
   "pygments_lexer": "ipython2",
   "version": "2.7.6"
  }
 },
 "nbformat": 4,
 "nbformat_minor": 5
}
